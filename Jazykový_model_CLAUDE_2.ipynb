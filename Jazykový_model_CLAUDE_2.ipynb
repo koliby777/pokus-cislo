{
  "nbformat": 4,
  "nbformat_minor": 0,
  "metadata": {
    "colab": {
      "provenance": [],
      "gpuType": "T4",
      "authorship_tag": "ABX9TyNyO455KHoXdoFQr9oHpXmZ",
      "include_colab_link": true
    },
    "kernelspec": {
      "name": "python3",
      "display_name": "Python 3"
    },
    "language_info": {
      "name": "python"
    },
    "accelerator": "GPU"
  },
  "cells": [
    {
      "cell_type": "markdown",
      "metadata": {
        "id": "view-in-github",
        "colab_type": "text"
      },
      "source": [
        "<a href=\"https://colab.research.google.com/github/koliby777/pokus-cislo/blob/master/Jazykov%C3%BD_model_CLAUDE_2.ipynb\" target=\"_parent\"><img src=\"https://colab.research.google.com/assets/colab-badge.svg\" alt=\"Open In Colab\"/></a>"
      ]
    },
    {
      "cell_type": "markdown",
      "source": [
        "# **Jazykový model CLAUDE 2**"
      ],
      "metadata": {
        "id": "kOIki3ex1GRt"
      }
    },
    {
      "cell_type": "markdown",
      "source": [],
      "metadata": {
        "id": "RlgUw69lQ4eD"
      }
    },
    {
      "cell_type": "markdown",
      "source": [
        "https://monica.im/share/chat?shareId=ZJSufobJSWrDEoCI"
      ],
      "metadata": {
        "id": "xANGFD1j1N82"
      }
    },
    {
      "cell_type": "code",
      "source": [
        "import torch\n",
        "import torch.nn as nn\n",
        "import math\n",
        "import nltk\n",
        "from google.colab import files\n",
        "import pickle\n",
        "nltk.download('punkt')\n",
        "from collections import Counter\n",
        "import textwrap\n",
        "from torch.utils.data import DataLoader, TensorDataset\n",
        "device = torch.device('cuda' if torch.cuda.is_available() else 'cpu')\n",
        "print(device)"
      ],
      "metadata": {
        "id": "FWN2N5xrz3S-",
        "colab": {
          "base_uri": "https://localhost:8080/"
        },
        "outputId": "c19e78ec-6d1d-4edd-c9ff-c62af358b217"
      },
      "execution_count": 1,
      "outputs": [
        {
          "output_type": "stream",
          "name": "stderr",
          "text": [
            "[nltk_data] Downloading package punkt to /root/nltk_data...\n",
            "[nltk_data]   Unzipping tokenizers/punkt.zip.\n"
          ]
        },
        {
          "output_type": "stream",
          "name": "stdout",
          "text": [
            "cuda\n"
          ]
        }
      ]
    },
    {
      "cell_type": "code",
      "source": [
        "texty = files.upload()"
      ],
      "metadata": {
        "colab": {
          "base_uri": "https://localhost:8080/",
          "height": 73
        },
        "id": "dr4XpzClSVAs",
        "outputId": "e6985446-c7d2-48dd-f606-2bc0ad9a420e"
      },
      "execution_count": 2,
      "outputs": [
        {
          "output_type": "display_data",
          "data": {
            "text/plain": [
              "<IPython.core.display.HTML object>"
            ],
            "text/html": [
              "\n",
              "     <input type=\"file\" id=\"files-41e0e6b8-3ce7-4ded-bf8d-015f8e213451\" name=\"files[]\" multiple disabled\n",
              "        style=\"border:none\" />\n",
              "     <output id=\"result-41e0e6b8-3ce7-4ded-bf8d-015f8e213451\">\n",
              "      Upload widget is only available when the cell has been executed in the\n",
              "      current browser session. Please rerun this cell to enable.\n",
              "      </output>\n",
              "      <script>// Copyright 2017 Google LLC\n",
              "//\n",
              "// Licensed under the Apache License, Version 2.0 (the \"License\");\n",
              "// you may not use this file except in compliance with the License.\n",
              "// You may obtain a copy of the License at\n",
              "//\n",
              "//      http://www.apache.org/licenses/LICENSE-2.0\n",
              "//\n",
              "// Unless required by applicable law or agreed to in writing, software\n",
              "// distributed under the License is distributed on an \"AS IS\" BASIS,\n",
              "// WITHOUT WARRANTIES OR CONDITIONS OF ANY KIND, either express or implied.\n",
              "// See the License for the specific language governing permissions and\n",
              "// limitations under the License.\n",
              "\n",
              "/**\n",
              " * @fileoverview Helpers for google.colab Python module.\n",
              " */\n",
              "(function(scope) {\n",
              "function span(text, styleAttributes = {}) {\n",
              "  const element = document.createElement('span');\n",
              "  element.textContent = text;\n",
              "  for (const key of Object.keys(styleAttributes)) {\n",
              "    element.style[key] = styleAttributes[key];\n",
              "  }\n",
              "  return element;\n",
              "}\n",
              "\n",
              "// Max number of bytes which will be uploaded at a time.\n",
              "const MAX_PAYLOAD_SIZE = 100 * 1024;\n",
              "\n",
              "function _uploadFiles(inputId, outputId) {\n",
              "  const steps = uploadFilesStep(inputId, outputId);\n",
              "  const outputElement = document.getElementById(outputId);\n",
              "  // Cache steps on the outputElement to make it available for the next call\n",
              "  // to uploadFilesContinue from Python.\n",
              "  outputElement.steps = steps;\n",
              "\n",
              "  return _uploadFilesContinue(outputId);\n",
              "}\n",
              "\n",
              "// This is roughly an async generator (not supported in the browser yet),\n",
              "// where there are multiple asynchronous steps and the Python side is going\n",
              "// to poll for completion of each step.\n",
              "// This uses a Promise to block the python side on completion of each step,\n",
              "// then passes the result of the previous step as the input to the next step.\n",
              "function _uploadFilesContinue(outputId) {\n",
              "  const outputElement = document.getElementById(outputId);\n",
              "  const steps = outputElement.steps;\n",
              "\n",
              "  const next = steps.next(outputElement.lastPromiseValue);\n",
              "  return Promise.resolve(next.value.promise).then((value) => {\n",
              "    // Cache the last promise value to make it available to the next\n",
              "    // step of the generator.\n",
              "    outputElement.lastPromiseValue = value;\n",
              "    return next.value.response;\n",
              "  });\n",
              "}\n",
              "\n",
              "/**\n",
              " * Generator function which is called between each async step of the upload\n",
              " * process.\n",
              " * @param {string} inputId Element ID of the input file picker element.\n",
              " * @param {string} outputId Element ID of the output display.\n",
              " * @return {!Iterable<!Object>} Iterable of next steps.\n",
              " */\n",
              "function* uploadFilesStep(inputId, outputId) {\n",
              "  const inputElement = document.getElementById(inputId);\n",
              "  inputElement.disabled = false;\n",
              "\n",
              "  const outputElement = document.getElementById(outputId);\n",
              "  outputElement.innerHTML = '';\n",
              "\n",
              "  const pickedPromise = new Promise((resolve) => {\n",
              "    inputElement.addEventListener('change', (e) => {\n",
              "      resolve(e.target.files);\n",
              "    });\n",
              "  });\n",
              "\n",
              "  const cancel = document.createElement('button');\n",
              "  inputElement.parentElement.appendChild(cancel);\n",
              "  cancel.textContent = 'Cancel upload';\n",
              "  const cancelPromise = new Promise((resolve) => {\n",
              "    cancel.onclick = () => {\n",
              "      resolve(null);\n",
              "    };\n",
              "  });\n",
              "\n",
              "  // Wait for the user to pick the files.\n",
              "  const files = yield {\n",
              "    promise: Promise.race([pickedPromise, cancelPromise]),\n",
              "    response: {\n",
              "      action: 'starting',\n",
              "    }\n",
              "  };\n",
              "\n",
              "  cancel.remove();\n",
              "\n",
              "  // Disable the input element since further picks are not allowed.\n",
              "  inputElement.disabled = true;\n",
              "\n",
              "  if (!files) {\n",
              "    return {\n",
              "      response: {\n",
              "        action: 'complete',\n",
              "      }\n",
              "    };\n",
              "  }\n",
              "\n",
              "  for (const file of files) {\n",
              "    const li = document.createElement('li');\n",
              "    li.append(span(file.name, {fontWeight: 'bold'}));\n",
              "    li.append(span(\n",
              "        `(${file.type || 'n/a'}) - ${file.size} bytes, ` +\n",
              "        `last modified: ${\n",
              "            file.lastModifiedDate ? file.lastModifiedDate.toLocaleDateString() :\n",
              "                                    'n/a'} - `));\n",
              "    const percent = span('0% done');\n",
              "    li.appendChild(percent);\n",
              "\n",
              "    outputElement.appendChild(li);\n",
              "\n",
              "    const fileDataPromise = new Promise((resolve) => {\n",
              "      const reader = new FileReader();\n",
              "      reader.onload = (e) => {\n",
              "        resolve(e.target.result);\n",
              "      };\n",
              "      reader.readAsArrayBuffer(file);\n",
              "    });\n",
              "    // Wait for the data to be ready.\n",
              "    let fileData = yield {\n",
              "      promise: fileDataPromise,\n",
              "      response: {\n",
              "        action: 'continue',\n",
              "      }\n",
              "    };\n",
              "\n",
              "    // Use a chunked sending to avoid message size limits. See b/62115660.\n",
              "    let position = 0;\n",
              "    do {\n",
              "      const length = Math.min(fileData.byteLength - position, MAX_PAYLOAD_SIZE);\n",
              "      const chunk = new Uint8Array(fileData, position, length);\n",
              "      position += length;\n",
              "\n",
              "      const base64 = btoa(String.fromCharCode.apply(null, chunk));\n",
              "      yield {\n",
              "        response: {\n",
              "          action: 'append',\n",
              "          file: file.name,\n",
              "          data: base64,\n",
              "        },\n",
              "      };\n",
              "\n",
              "      let percentDone = fileData.byteLength === 0 ?\n",
              "          100 :\n",
              "          Math.round((position / fileData.byteLength) * 100);\n",
              "      percent.textContent = `${percentDone}% done`;\n",
              "\n",
              "    } while (position < fileData.byteLength);\n",
              "  }\n",
              "\n",
              "  // All done.\n",
              "  yield {\n",
              "    response: {\n",
              "      action: 'complete',\n",
              "    }\n",
              "  };\n",
              "}\n",
              "\n",
              "scope.google = scope.google || {};\n",
              "scope.google.colab = scope.google.colab || {};\n",
              "scope.google.colab._files = {\n",
              "  _uploadFiles,\n",
              "  _uploadFilesContinue,\n",
              "};\n",
              "})(self);\n",
              "</script> "
            ]
          },
          "metadata": {}
        },
        {
          "output_type": "stream",
          "name": "stdout",
          "text": [
            "Saving cestina.txt to cestina.txt\n"
          ]
        }
      ]
    },
    {
      "cell_type": "code",
      "source": [
        "with open('cestina.txt', 'r', encoding='utf-8') as f:\n",
        "    cz_text = f.read()\n",
        "    en_text = cz_text\n"
      ],
      "metadata": {
        "id": "QTJGQDxrQtek"
      },
      "execution_count": 3,
      "outputs": []
    },
    {
      "cell_type": "code",
      "execution_count": 4,
      "metadata": {
        "id": "CE809DW207sz",
        "colab": {
          "base_uri": "https://localhost:8080/",
          "height": 70
        },
        "outputId": "900b8d47-a03f-48c9-a970-a969e30d65b9"
      },
      "outputs": [
        {
          "output_type": "stream",
          "name": "stdout",
          "text": [
            "71742\n",
            "71742\n"
          ]
        },
        {
          "output_type": "execute_result",
          "data": {
            "text/plain": [
              "'\\n# Zmenšení datasetu\\ncz_text = cz_text[:10000000]\\nen_text = en_text[:10000000]\\nprint(len(cz_text))\\nprint(len(en_text))\\n'"
            ],
            "application/vnd.google.colaboratory.intrinsic+json": {
              "type": "string"
            }
          },
          "metadata": {},
          "execution_count": 4
        }
      ],
      "source": [
        "\"\"\"\n",
        "!wget https://raw.githubusercontent.com/koliby777/pokus-cislo/master/Texty_EU/cestina.txt\n",
        "with open('cestina.txt', 'r', encoding='utf-8') as f:\n",
        "    cz_text = f.read()\n",
        "\n",
        "!wget https://raw.githubusercontent.com/koliby777/pokus-cislo/master/Texty_EU/anglictina.txt\n",
        "with open('anglictina.txt', 'r', encoding='utf-8') as f:\n",
        "    en_text = f.read()\n",
        "\"\"\"\n",
        "\n",
        "# Kontrola délky stažených textů\n",
        "print(len(cz_text))\n",
        "print(len(en_text))\n",
        "\n",
        "\"\"\"\n",
        "# Zmenšení datasetu\n",
        "cz_text = cz_text[:10000000]\n",
        "en_text = en_text[:10000000]\n",
        "print(len(cz_text))\n",
        "print(len(en_text))\n",
        "\"\"\""
      ]
    },
    {
      "cell_type": "code",
      "source": [
        "# Tokenizace textů\n",
        "cz_tokens = nltk.word_tokenize(cz_text)\n",
        "en_tokens = nltk.word_tokenize(en_text)\n",
        "\n",
        "# Vytvoření slovníku\n",
        "\n",
        "counter = Counter(cz_tokens + en_tokens)\n",
        "vocab = sorted(counter, key=counter.get, reverse=True)\n",
        "vocab_to_idx = {'<unk>': 0}  # Přidání speciálního tokenu <unk> na začátek slovníku\n",
        "vocab_to_idx.update({token: idx + 1 for idx, token in enumerate(vocab)})\n",
        "\n",
        "# Uložení slovníku do souboru  - asi netřeba zde ?!?\n",
        "with open(\"vocab_to_idx.pkl\", \"wb\") as f:\n",
        "    pickle.dump(vocab_to_idx, f)\n",
        "\n",
        "# Převod tokenů na indexy\n",
        "cz_indices = [vocab_to_idx[token] for token in cz_tokens]\n",
        "en_indices = [vocab_to_idx[token] for token in en_tokens]"
      ],
      "metadata": {
        "id": "M8W_k7zv8ZYD"
      },
      "execution_count": 5,
      "outputs": []
    },
    {
      "cell_type": "code",
      "source": [
        "vocab_size = len(vocab_to_idx)\n",
        "print(f\"\\nvelikost slovniku: {vocab_size}\")\n"
      ],
      "metadata": {
        "id": "C3_5Pnv4pcEW",
        "colab": {
          "base_uri": "https://localhost:8080/"
        },
        "outputId": "53266770-fa82-4bc9-a927-b1e22ed6daa0"
      },
      "execution_count": 6,
      "outputs": [
        {
          "output_type": "stream",
          "name": "stdout",
          "text": [
            "\n",
            "velikost slovniku: 4637\n"
          ]
        }
      ]
    },
    {
      "cell_type": "code",
      "source": [
        "# Kontrola tokenizace\n",
        "print(\"První tokeny z českého textu:\", cz_tokens[:10])\n",
        "print(\"První tokeny z anglického textu:\", en_tokens[:10])\n",
        "\n",
        "# Kontrola slovníku\n",
        "print(\"První tokeny ve slovníku:\")\n",
        "for token, idx in list(vocab_to_idx.items())[:10]:\n",
        "    print(f\"{token}: {idx}\")\n",
        "\n",
        "# Kontrola převodu tokenů na indexy\n",
        "print(\"První indexy z českých indexovaných sekvencí:\", cz_indices[:10])\n",
        "print(\"První indexy z anglických indexovaných sekvencí:\", en_indices[:10])\n"
      ],
      "metadata": {
        "id": "DpEDBAJi-WUs",
        "colab": {
          "base_uri": "https://localhost:8080/"
        },
        "outputId": "4fd5b497-4888-44cf-96bc-f3675d12099d"
      },
      "execution_count": 7,
      "outputs": [
        {
          "output_type": "stream",
          "name": "stdout",
          "text": [
            "První tokeny z českého textu: ['Věštkyně', '(', 'úlomky', ')', 'Když', 'oko', 'vaše', 'slzou', 'se', 'zaleje']\n",
            "První tokeny z anglického textu: ['Věštkyně', '(', 'úlomky', ')', 'Když', 'oko', 'vaše', 'slzou', 'se', 'zaleje']\n",
            "První tokeny ve slovníku:\n",
            "<unk>: 0\n",
            ",: 1\n",
            ".: 2\n",
            "a: 3\n",
            "!: 4\n",
            "se: 5\n",
            "-: 6\n",
            "v: 7\n",
            ":: 8\n",
            "„: 9\n",
            "První indexy z českých indexovaných sekvencí: [1650, 1651, 1652, 1653, 254, 151, 1654, 1655, 5, 1656]\n",
            "První indexy z anglických indexovaných sekvencí: [1650, 1651, 1652, 1653, 254, 151, 1654, 1655, 5, 1656]\n"
          ]
        }
      ]
    },
    {
      "cell_type": "code",
      "source": [
        "# Rozdělení dat na trénovací, validační a testovací sadu\n",
        "train_ratio = 0.8\n",
        "val_ratio = 0.1\n",
        "test_ratio = 0.1\n",
        "\n",
        "train_size_cz = int(len(cz_indices) * train_ratio)\n",
        "val_size_cz = int(len(cz_indices) * val_ratio)\n",
        "train_size_en = int(len(en_indices) * train_ratio)\n",
        "val_size_en = int(len(en_indices) * val_ratio)\n",
        "\n",
        "train_data_cz = cz_indices[:train_size_cz]\n",
        "val_data_cz = cz_indices[train_size_cz:train_size_cz+val_size_cz]\n",
        "test_data_cz = cz_indices[train_size_cz+val_size_cz:]\n",
        "\n",
        "train_data_en = en_indices[:train_size_en]\n",
        "val_data_en = en_indices[train_size_en:train_size_en+val_size_en]\n",
        "test_data_en = en_indices[train_size_en+val_size_en:]\n",
        "\n",
        "train_data = train_data_cz + train_data_en\n",
        "val_data = val_data_cz + val_data_en\n",
        "test_data = test_data_cz + test_data_en\n",
        "\n",
        "print(\"Délka trénovací sady:\", len(train_data))\n",
        "print(\"Délka validační sady:\", len(val_data))\n",
        "print(\"Délka testovací sady:\", len(test_data))\n"
      ],
      "metadata": {
        "id": "fC7Vj8we_TUP",
        "colab": {
          "base_uri": "https://localhost:8080/"
        },
        "outputId": "6a19420e-a000-4cf5-e228-983e05ebdb50"
      },
      "execution_count": 8,
      "outputs": [
        {
          "output_type": "stream",
          "name": "stdout",
          "text": [
            "Délka trénovací sady: 26138\n",
            "Délka validační sady: 3266\n",
            "Délka testovací sady: 3270\n"
          ]
        }
      ]
    },
    {
      "cell_type": "code",
      "source": [
        "# Hyperparametry modelu\n",
        "vocab_size = len(vocab_to_idx)  # Velikost slovníku, automaticky se přizpůsobí podle načtených dat\n",
        "embedding_dim = 512  # Dimenze embedding vektoru, větší dimenze může zachytit více informací, ale zvyšuje počet parametrů\n",
        "num_heads = 64  # Počet hlav v multi-head attention, více hlav umožňuje modelu zaměřit se na různé aspekty, ale zvyšuje výpočetní náročnost\n",
        "num_layers = 12  # Počet transformačních vrstev, více vrstev umožňuje zachytit složitější vztahy, ale zvyšuje hloubku modelu a dobu trénování\n",
        "hidden_dim = 512  # Dimenze skrytých vrstev v transformačních vrstvách, větší dimenze může zachytit více informací, ale zvyšuje počet parametrů\n",
        "dropout = 0.2  # Pravděpodobnost dropout, pomáhá předcházet přeučení, ale může zpomalit konvergenci\n",
        "\n",
        "# Hyperparametry trénování\n",
        "seq_length = 1024  # Délka vstupních sekvencí během trénování, delší sekvence mohou zachytit více kontextu, ale vyžadují více pamět!!!\n",
        "batch_size = 1024  # Velikost dávky, větší dávky mohou zrychlit trénování, ale vyžadují více paměti !!!!!\n",
        "num_epochs = 70  # Počet epoch trénování, více epoch může zlepšit kvalitu modelu, ale prodlužuje dobu trénování\n",
        "learning_rate = 0.0001  # Rychlost učení optimizátoru, vyšší hodnoty mohou zrychlit konvergenci, ale mohou vést k nestabilitě\n",
        "weight_decay = 0.01  # Regularizace L2, pomáhá předcházet přeučení, ale může zpomalit konvergenci\n"
      ],
      "metadata": {
        "id": "MRcyRicYHb-d"
      },
      "execution_count": 32,
      "outputs": []
    },
    {
      "cell_type": "code",
      "source": [
        "# Vytvoření datových sad a loaderů\n",
        "def create_sequences(data, seq_length):\n",
        "    sequences = []\n",
        "    for i in range(0, len(data) - seq_length, seq_length):\n",
        "        seq = data[i:i+seq_length]\n",
        "        sequences.append(seq)\n",
        "    return sequences\n",
        "\n",
        "train_sequences = create_sequences(train_data, seq_length)\n",
        "val_sequences = create_sequences(val_data, seq_length)\n",
        "\n",
        "train_dataset = TensorDataset(torch.tensor(train_sequences, dtype=torch.long))\n",
        "val_dataset = TensorDataset(torch.tensor(val_sequences, dtype=torch.long))\n",
        "\n",
        "train_loader = DataLoader(train_dataset, batch_size=batch_size, shuffle=True)\n",
        "val_loader = DataLoader(val_dataset, batch_size=batch_size)\n",
        "\n",
        "\n",
        "\n",
        "\"\"\"\n",
        "V tomto kódu používáme knihovnu nltk pro tokenizaci textů. Vytvoříme slovník mapující unikátní\n",
        "tokeny na jejich indexy pomocí Counter a seřadíme tokeny podle jejich frekvence.\n",
        "Poté převedeme tokeny na jejich indexy pomocí vytvořeného slovníku.\n",
        "Rozdělíme indexované sekvence na trénovací a validační sady v poměru 80% pro trénování a 20% pro validaci.\n",
        "Nakonec vytvoříme datové loadery pomocí DataLoader z PyTorch, které nám umožní snadno procházet daty po dávkách během trénování.\n",
        "Nyní máme připravená data pro trénování našeho jazykového modelu.\n",
        "\n",
        "\"\"\"\n"
      ],
      "metadata": {
        "id": "PclWex5U1Pv8",
        "colab": {
          "base_uri": "https://localhost:8080/",
          "height": 87
        },
        "outputId": "231f2192-17ba-46b0-abc5-f9f90d4abb0e"
      },
      "execution_count": 33,
      "outputs": [
        {
          "output_type": "execute_result",
          "data": {
            "text/plain": [
              "'\\nV tomto kódu používáme knihovnu nltk pro tokenizaci textů. Vytvoříme slovník mapující unikátní\\ntokeny na jejich indexy pomocí Counter a seřadíme tokeny podle jejich frekvence.\\nPoté převedeme tokeny na jejich indexy pomocí vytvořeného slovníku.\\nRozdělíme indexované sekvence na trénovací a validační sady v poměru 80% pro trénování a 20% pro validaci.\\nNakonec vytvoříme datové loadery pomocí DataLoader z PyTorch, které nám umožní snadno procházet daty po dávkách během trénování.\\nNyní máme připravená data pro trénování našeho jazykového modelu.\\n\\n'"
            ],
            "application/vnd.google.colaboratory.intrinsic+json": {
              "type": "string"
            }
          },
          "metadata": {},
          "execution_count": 33
        }
      ]
    },
    {
      "cell_type": "code",
      "source": [
        "\n",
        "# Kontrola datových loaderů\n",
        "print(\"Tvar dávky z trénovacího loaderu:\")\n",
        "for batch in train_loader:\n",
        "    print(batch[0].shape)\n",
        "    break\n",
        "\n",
        "print(\"Tvar dávky z validačního loaderu:\")\n",
        "for batch in val_loader:\n",
        "    print(batch[0].shape)\n",
        "    break\n"
      ],
      "metadata": {
        "id": "eVae48eX1PrI",
        "colab": {
          "base_uri": "https://localhost:8080/"
        },
        "outputId": "416c0fce-9f1b-45b3-8d3e-1d496c9b83bb"
      },
      "execution_count": 34,
      "outputs": [
        {
          "output_type": "stream",
          "name": "stdout",
          "text": [
            "Tvar dávky z trénovacího loaderu:\n",
            "torch.Size([25, 1024])\n",
            "Tvar dávky z validačního loaderu:\n",
            "torch.Size([3, 1024])\n"
          ]
        }
      ]
    },
    {
      "cell_type": "code",
      "source": [
        "# Definice modelu\n",
        "class PositionalEncoding(nn.Module):\n",
        "    def __init__(self, d_model, dropout=0.1, max_len=5000):\n",
        "        super(PositionalEncoding, self).__init__()\n",
        "        self.dropout = nn.Dropout(p=dropout)\n",
        "        pe = torch.zeros(max_len, d_model)\n",
        "        position = torch.arange(0, max_len, dtype=torch.float).unsqueeze(1)\n",
        "        div_term = torch.exp(torch.arange(0, d_model, 2).float() * (-math.log(10000.0) / d_model))\n",
        "        pe[:, 0::2] = torch.sin(position * div_term)\n",
        "        pe[:, 1::2] = torch.cos(position * div_term)\n",
        "        pe = pe.unsqueeze(0).transpose(0, 1)\n",
        "        self.register_buffer('pe', pe)\n",
        "\n",
        "    def forward(self, x):\n",
        "        x = x + self.pe[:x.size(0), :]\n",
        "        return self.dropout(x)\n",
        "\n",
        "class TransformerModel(nn.Module):\n",
        "    def __init__(self, vocab_size, embedding_dim, num_heads, num_layers, hidden_dim, dropout):\n",
        "        super(TransformerModel, self).__init__()\n",
        "        self.embedding = nn.Embedding(vocab_size, embedding_dim)\n",
        "        self.positional_encoding = PositionalEncoding(embedding_dim, dropout)\n",
        "        encoder_layer = nn.TransformerEncoderLayer(embedding_dim, num_heads, hidden_dim, dropout)\n",
        "        self.transformer_encoder = nn.TransformerEncoder(encoder_layer, num_layers)\n",
        "        self.fc = nn.Linear(embedding_dim, vocab_size)\n",
        "\n",
        "    def forward(self, x):\n",
        "        x = self.embedding(x) * math.sqrt(embedding_dim)\n",
        "        x = self.positional_encoding(x)\n",
        "        x = self.transformer_encoder(x)\n",
        "        x = self.fc(x)\n",
        "        return x\n"
      ],
      "metadata": {
        "id": "FuEoWozzDUDn"
      },
      "execution_count": 35,
      "outputs": []
    },
    {
      "cell_type": "code",
      "source": [
        "# Inicializace modelu\n",
        "model = TransformerModel(vocab_size, embedding_dim, num_heads, num_layers, hidden_dim, dropout)\n",
        "\n",
        "# Definice ztrátové funkce a optimizátoru\n",
        "criterion = nn.CrossEntropyLoss()\n",
        "optimizer = torch.optim.Adam(model.parameters(), lr=learning_rate, weight_decay=weight_decay)"
      ],
      "metadata": {
        "colab": {
          "base_uri": "https://localhost:8080/"
        },
        "id": "RMwkqxBwFG0e",
        "outputId": "0a557133-12e7-453e-8399-9a0519b3123d"
      },
      "execution_count": 36,
      "outputs": [
        {
          "output_type": "stream",
          "name": "stderr",
          "text": [
            "/usr/local/lib/python3.10/dist-packages/torch/nn/modules/transformer.py:286: UserWarning: enable_nested_tensor is True, but self.use_nested_tensor is False because encoder_layer.self_attn.batch_first was not True(use batch_first for better inference performance)\n",
            "  warnings.warn(f\"enable_nested_tensor is True, but self.use_nested_tensor is False because {why_not_sparsity_fast_path}\")\n"
          ]
        }
      ]
    },
    {
      "cell_type": "code",
      "source": [
        "vocab_size = len(vocab_to_idx)\n",
        "print(f\"\\nvelikost slovniku: {vocab_size}\")"
      ],
      "metadata": {
        "id": "5CN89XvEK1Cj",
        "colab": {
          "base_uri": "https://localhost:8080/"
        },
        "outputId": "585d9192-abd7-43d6-a3a4-be23071c8b2c"
      },
      "execution_count": 37,
      "outputs": [
        {
          "output_type": "stream",
          "name": "stdout",
          "text": [
            "\n",
            "velikost slovniku: 4637\n"
          ]
        }
      ]
    },
    {
      "cell_type": "code",
      "source": [
        "if device == 'cuda':\n",
        "    torch.cuda.empty_cache()\n",
        "\n",
        "# Trénování modelu:\n",
        "print(device)\n",
        "model.to(device)\n",
        "\n",
        "for epoch in range(num_epochs):\n",
        "    model.train()\n",
        "    total_loss = 0\n",
        "    for batch in train_loader:\n",
        "        inputs = batch[0].to(device)\n",
        "        targets = inputs[:, 1:].contiguous()\n",
        "        inputs = inputs[:, :-1].contiguous()\n",
        "\n",
        "        optimizer.zero_grad()\n",
        "        outputs = model(inputs)\n",
        "        loss = criterion(outputs.view(-1, vocab_size), targets.view(-1))\n",
        "        loss.backward()\n",
        "        optimizer.step()\n",
        "        total_loss += loss.item()\n",
        "\n",
        "    print(f\"Epoch [{epoch+1}/{num_epochs}], Loss: {total_loss/len(train_loader):.4f}\")\n",
        "\n",
        "\n",
        "\"\"\"\n",
        "Zde probíhá trénování modelu po zadaný počet epoch.\n",
        "V každé epoše procházíme trénovací data po dávkách, provádíme dopředný průchod, počítáme ztrátu,\n",
        "provádíme zpětnou propagaci a aktualizujeme parametry modelu pomocí optimizátoru.\n",
        "Na konci každé epochy vypisujeme průměrnou ztrátu.\n",
        "\"\"\""
      ],
      "metadata": {
        "id": "eiR11vsE1PRI",
        "colab": {
          "base_uri": "https://localhost:8080/",
          "height": 1000
        },
        "outputId": "542dc9c4-6db7-4f15-bb5a-1c01f1dbe1a7"
      },
      "execution_count": 38,
      "outputs": [
        {
          "output_type": "stream",
          "name": "stdout",
          "text": [
            "cuda\n",
            "Epoch [1/70], Loss: 8.6032\n",
            "Epoch [2/70], Loss: 8.5612\n",
            "Epoch [3/70], Loss: 8.5215\n",
            "Epoch [4/70], Loss: 8.4792\n",
            "Epoch [5/70], Loss: 8.4515\n",
            "Epoch [6/70], Loss: 8.4109\n",
            "Epoch [7/70], Loss: 8.3703\n",
            "Epoch [8/70], Loss: 8.3233\n",
            "Epoch [9/70], Loss: 8.2886\n",
            "Epoch [10/70], Loss: 8.2503\n",
            "Epoch [11/70], Loss: 8.2125\n",
            "Epoch [12/70], Loss: 8.1657\n",
            "Epoch [13/70], Loss: 8.1301\n",
            "Epoch [14/70], Loss: 8.0926\n",
            "Epoch [15/70], Loss: 8.0552\n",
            "Epoch [16/70], Loss: 8.0198\n",
            "Epoch [17/70], Loss: 7.9832\n",
            "Epoch [18/70], Loss: 7.9484\n",
            "Epoch [19/70], Loss: 7.9133\n",
            "Epoch [20/70], Loss: 7.8872\n",
            "Epoch [21/70], Loss: 7.8542\n",
            "Epoch [22/70], Loss: 7.8220\n",
            "Epoch [23/70], Loss: 7.7872\n",
            "Epoch [24/70], Loss: 7.7662\n",
            "Epoch [25/70], Loss: 7.7367\n",
            "Epoch [26/70], Loss: 7.7164\n",
            "Epoch [27/70], Loss: 7.6923\n",
            "Epoch [28/70], Loss: 7.6636\n",
            "Epoch [29/70], Loss: 7.6398\n",
            "Epoch [30/70], Loss: 7.6182\n",
            "Epoch [31/70], Loss: 7.5907\n",
            "Epoch [32/70], Loss: 7.5740\n",
            "Epoch [33/70], Loss: 7.5578\n",
            "Epoch [34/70], Loss: 7.5299\n",
            "Epoch [35/70], Loss: 7.5070\n",
            "Epoch [36/70], Loss: 7.4877\n",
            "Epoch [37/70], Loss: 7.4650\n",
            "Epoch [38/70], Loss: 7.4413\n",
            "Epoch [39/70], Loss: 7.4251\n",
            "Epoch [40/70], Loss: 7.4081\n",
            "Epoch [41/70], Loss: 7.3905\n",
            "Epoch [42/70], Loss: 7.3608\n",
            "Epoch [43/70], Loss: 7.3475\n",
            "Epoch [44/70], Loss: 7.3266\n",
            "Epoch [45/70], Loss: 7.3115\n",
            "Epoch [46/70], Loss: 7.2837\n",
            "Epoch [47/70], Loss: 7.2696\n",
            "Epoch [48/70], Loss: 7.2510\n",
            "Epoch [49/70], Loss: 7.2344\n",
            "Epoch [50/70], Loss: 7.2179\n",
            "Epoch [51/70], Loss: 7.2034\n",
            "Epoch [52/70], Loss: 7.1833\n",
            "Epoch [53/70], Loss: 7.1661\n",
            "Epoch [54/70], Loss: 7.1510\n",
            "Epoch [55/70], Loss: 7.1326\n",
            "Epoch [56/70], Loss: 7.1174\n",
            "Epoch [57/70], Loss: 7.1018\n",
            "Epoch [58/70], Loss: 7.0838\n",
            "Epoch [59/70], Loss: 7.0717\n",
            "Epoch [60/70], Loss: 7.0580\n",
            "Epoch [61/70], Loss: 7.0385\n",
            "Epoch [62/70], Loss: 7.0275\n",
            "Epoch [63/70], Loss: 7.0144\n",
            "Epoch [64/70], Loss: 6.9972\n",
            "Epoch [65/70], Loss: 6.9899\n",
            "Epoch [66/70], Loss: 6.9754\n",
            "Epoch [67/70], Loss: 6.9638\n",
            "Epoch [68/70], Loss: 6.9498\n",
            "Epoch [69/70], Loss: 6.9401\n",
            "Epoch [70/70], Loss: 6.9284\n"
          ]
        },
        {
          "output_type": "execute_result",
          "data": {
            "text/plain": [
              "'\\nZde probíhá trénování modelu po zadaný počet epoch.\\nV každé epoše procházíme trénovací data po dávkách, provádíme dopředný průchod, počítáme ztrátu,\\nprovádíme zpětnou propagaci a aktualizujeme parametry modelu pomocí optimizátoru.\\nNa konci každé epochy vypisujeme průměrnou ztrátu.\\n'"
            ],
            "application/vnd.google.colaboratory.intrinsic+json": {
              "type": "string"
            }
          },
          "metadata": {},
          "execution_count": 38
        }
      ]
    },
    {
      "cell_type": "code",
      "source": [
        "# Vyhodnocení modelu:\n",
        "\n",
        "model.eval()\n",
        "total_loss = 0\n",
        "with torch.no_grad():\n",
        "    for batch in val_loader:\n",
        "        inputs = batch[0].to(device)\n",
        "        targets = inputs[:, 1:].contiguous()\n",
        "        inputs = inputs[:, :-1].contiguous()\n",
        "\n",
        "        outputs = model(inputs)\n",
        "        loss = criterion(outputs.view(-1, vocab_size), targets.view(-1))\n",
        "        total_loss += loss.item()\n",
        "\n",
        "print(f\"Validation Loss: {total_loss/len(val_loader):.4f}\")\n",
        "\"\"\"\n",
        "Po trénování vyhodnotíme model na validačních datech.\n",
        "Procházíme validační data po dávkách, provádíme dopředný průchod a počítáme ztrátu.\n",
        "Na konci vypisujeme průměrnou ztrátu na validačních datech.\n",
        "\"\"\""
      ],
      "metadata": {
        "id": "AtI7IZba1PD-",
        "colab": {
          "base_uri": "https://localhost:8080/",
          "height": 70
        },
        "outputId": "03542f09-b3eb-427f-b408-b5bbf83a6314"
      },
      "execution_count": 39,
      "outputs": [
        {
          "output_type": "stream",
          "name": "stdout",
          "text": [
            "Validation Loss: 7.1138\n"
          ]
        },
        {
          "output_type": "execute_result",
          "data": {
            "text/plain": [
              "'\\nPo trénování vyhodnotíme model na validačních datech.\\nProcházíme validační data po dávkách, provádíme dopředný průchod a počítáme ztrátu.\\nNa konci vypisujeme průměrnou ztrátu na validačních datech.\\n'"
            ],
            "application/vnd.google.colaboratory.intrinsic+json": {
              "type": "string"
            }
          },
          "metadata": {},
          "execution_count": 39
        }
      ]
    },
    {
      "cell_type": "code",
      "source": [
        "# Testování modelu\n",
        "model.eval()\n",
        "total_loss = 0\n",
        "with torch.no_grad():\n",
        "    for i in range(0, len(test_data)-seq_length, seq_length):\n",
        "        inputs = torch.tensor(test_data[i:i+seq_length], dtype=torch.long).unsqueeze(0).to(device)\n",
        "        targets = torch.tensor(test_data[i+1:i+seq_length+1], dtype=torch.long).unsqueeze(0).to(device)\n",
        "        outputs = model(inputs)\n",
        "        loss = criterion(outputs.view(-1, vocab_size), targets.view(-1))\n",
        "        total_loss += loss.item()\n",
        "\n",
        "test_loss = total_loss / ((len(test_data) - seq_length) / seq_length)\n",
        "print(f\"Test Loss: {test_loss:.4f}\")"
      ],
      "metadata": {
        "id": "JltnYa0fWO6Z",
        "colab": {
          "base_uri": "https://localhost:8080/"
        },
        "outputId": "190bce9b-7c74-43e3-b9ea-b58a2d107d71"
      },
      "execution_count": 40,
      "outputs": [
        {
          "output_type": "stream",
          "name": "stdout",
          "text": [
            "Test Loss: 10.0589\n"
          ]
        }
      ]
    },
    {
      "cell_type": "code",
      "source": [
        "# Hyperparametry generování textu\n",
        "max_length = 150  # Maximální délka generovaného textu, delší texty mohou zachytit více kontextu, ale mohou být méně koherentní\n",
        "temperature = 5  # Teplota při samplování, vyšší hodnoty vedou k více kreativním, ale méně koherentním textům"
      ],
      "metadata": {
        "id": "tsPZK7IGKJi1"
      },
      "execution_count": 41,
      "outputs": []
    },
    {
      "cell_type": "code",
      "source": [
        "# Generování textu\n",
        "def generate_text(model, prompt, max_length=max_length, temperature=temperature):\n",
        "    model.eval()\n",
        "    tokens = nltk.word_tokenize(prompt)\n",
        "    indices = []\n",
        "    for token in tokens:\n",
        "        if token in vocab_to_idx:\n",
        "            indices.append(vocab_to_idx[token])\n",
        "        else:\n",
        "            indices.append(vocab_to_idx['<unk>'])\n",
        "\n",
        "    prompt_tensor = torch.LongTensor(indices).unsqueeze(0).to(device)\n",
        "\n",
        "    generated_indices = []\n",
        "    with torch.no_grad():\n",
        "        for _ in range(max_length):\n",
        "            outputs = model(prompt_tensor)\n",
        "            next_token_logits = outputs[-1, -1, :]\n",
        "            next_token_logits = next_token_logits / temperature\n",
        "            next_token_probs = torch.softmax(next_token_logits, dim=-1)\n",
        "            next_token = torch.multinomial(next_token_probs, num_samples=1)\n",
        "            generated_indices.append(next_token.item())\n",
        "            prompt_tensor = torch.cat((prompt_tensor, next_token.unsqueeze(0)), dim=1)\n",
        "\n",
        "    generated_tokens = [list(vocab_to_idx.keys())[idx] for idx in generated_indices]\n",
        "    generated_text = \" \".join(generated_tokens)\n",
        "    return generated_text\n",
        "\n"
      ],
      "metadata": {
        "id": "3sXdvA4CstMP"
      },
      "execution_count": 42,
      "outputs": []
    },
    {
      "cell_type": "code",
      "source": [
        "# Uložení modelu\n",
        "torch.save(model.state_dict(), \"transformer_model.pth\")\n",
        "\n",
        "# Uložení slovníku do souboru\n",
        "with open(\"vocab_to_idx.pkl\", \"wb\") as f:\n",
        "    pickle.dump(vocab_to_idx, f)\n",
        "\n",
        "files.download(\"transformer_model.pth\")\n",
        "files.download(\"vocab_to_idx.pkl\")"
      ],
      "metadata": {
        "id": "YmXFYyRtx-vq",
        "colab": {
          "base_uri": "https://localhost:8080/",
          "height": 17
        },
        "outputId": "121463ec-7dd5-4c45-e8ef-fc825840a75b"
      },
      "execution_count": 44,
      "outputs": [
        {
          "output_type": "display_data",
          "data": {
            "text/plain": [
              "<IPython.core.display.Javascript object>"
            ],
            "application/javascript": [
              "\n",
              "    async function download(id, filename, size) {\n",
              "      if (!google.colab.kernel.accessAllowed) {\n",
              "        return;\n",
              "      }\n",
              "      const div = document.createElement('div');\n",
              "      const label = document.createElement('label');\n",
              "      label.textContent = `Downloading \"${filename}\": `;\n",
              "      div.appendChild(label);\n",
              "      const progress = document.createElement('progress');\n",
              "      progress.max = size;\n",
              "      div.appendChild(progress);\n",
              "      document.body.appendChild(div);\n",
              "\n",
              "      const buffers = [];\n",
              "      let downloaded = 0;\n",
              "\n",
              "      const channel = await google.colab.kernel.comms.open(id);\n",
              "      // Send a message to notify the kernel that we're ready.\n",
              "      channel.send({})\n",
              "\n",
              "      for await (const message of channel.messages) {\n",
              "        // Send a message to notify the kernel that we're ready.\n",
              "        channel.send({})\n",
              "        if (message.buffers) {\n",
              "          for (const buffer of message.buffers) {\n",
              "            buffers.push(buffer);\n",
              "            downloaded += buffer.byteLength;\n",
              "            progress.value = downloaded;\n",
              "          }\n",
              "        }\n",
              "      }\n",
              "      const blob = new Blob(buffers, {type: 'application/binary'});\n",
              "      const a = document.createElement('a');\n",
              "      a.href = window.URL.createObjectURL(blob);\n",
              "      a.download = filename;\n",
              "      div.appendChild(a);\n",
              "      a.click();\n",
              "      div.remove();\n",
              "    }\n",
              "  "
            ]
          },
          "metadata": {}
        },
        {
          "output_type": "display_data",
          "data": {
            "text/plain": [
              "<IPython.core.display.Javascript object>"
            ],
            "application/javascript": [
              "download(\"download_147e2126-7bd5-4548-9645-91683a130018\", \"transformer_model.pth\", 105053498)"
            ]
          },
          "metadata": {}
        },
        {
          "output_type": "display_data",
          "data": {
            "text/plain": [
              "<IPython.core.display.Javascript object>"
            ],
            "application/javascript": [
              "\n",
              "    async function download(id, filename, size) {\n",
              "      if (!google.colab.kernel.accessAllowed) {\n",
              "        return;\n",
              "      }\n",
              "      const div = document.createElement('div');\n",
              "      const label = document.createElement('label');\n",
              "      label.textContent = `Downloading \"${filename}\": `;\n",
              "      div.appendChild(label);\n",
              "      const progress = document.createElement('progress');\n",
              "      progress.max = size;\n",
              "      div.appendChild(progress);\n",
              "      document.body.appendChild(div);\n",
              "\n",
              "      const buffers = [];\n",
              "      let downloaded = 0;\n",
              "\n",
              "      const channel = await google.colab.kernel.comms.open(id);\n",
              "      // Send a message to notify the kernel that we're ready.\n",
              "      channel.send({})\n",
              "\n",
              "      for await (const message of channel.messages) {\n",
              "        // Send a message to notify the kernel that we're ready.\n",
              "        channel.send({})\n",
              "        if (message.buffers) {\n",
              "          for (const buffer of message.buffers) {\n",
              "            buffers.push(buffer);\n",
              "            downloaded += buffer.byteLength;\n",
              "            progress.value = downloaded;\n",
              "          }\n",
              "        }\n",
              "      }\n",
              "      const blob = new Blob(buffers, {type: 'application/binary'});\n",
              "      const a = document.createElement('a');\n",
              "      a.href = window.URL.createObjectURL(blob);\n",
              "      a.download = filename;\n",
              "      div.appendChild(a);\n",
              "      a.click();\n",
              "      div.remove();\n",
              "    }\n",
              "  "
            ]
          },
          "metadata": {}
        },
        {
          "output_type": "display_data",
          "data": {
            "text/plain": [
              "<IPython.core.display.Javascript object>"
            ],
            "application/javascript": [
              "download(\"download_cd1730d3-a1f7-40d4-ab2e-2f3d8b9a3c69\", \"vocab_to_idx.pkl\", 58647)"
            ]
          },
          "metadata": {}
        }
      ]
    },
    {
      "cell_type": "code",
      "source": [
        "# Zadání promptu a tisk odezvy\n",
        "while True:\n",
        "    prompt = input(\"Zadejte prompt (nebo 'konec' pro ukončení): \")\n",
        "    if prompt.lower() == 'konec':\n",
        "        break\n",
        "\n",
        "    generated_text = generate_text(model, prompt, max_length=max_length, temperature=temperature)\n",
        "    print(\"Vygenerovaný text:\")\n",
        "    # input(\"stiskni Enter\")\n",
        "    generated_text = textwrap.fill(generated_text, width = 130)\n",
        "    print(generated_text)\n",
        "    print()"
      ],
      "metadata": {
        "id": "XnLWeUUzXl3p",
        "colab": {
          "base_uri": "https://localhost:8080/"
        },
        "outputId": "83c587d0-754c-44c6-a1fa-4872d0aa7406"
      },
      "execution_count": 43,
      "outputs": [
        {
          "name": "stdout",
          "output_type": "stream",
          "text": [
            "Zadejte prompt (nebo 'konec' pro ukončení): fcdee  \n",
            "Vygenerovaný text:\n",
            "opouští oči žel možná panny vinouc babka nesu ohlédajíc klekla rozhněvej Praze jimi Štědrý potřeba vraha Ty ňadrám nechť mramorové\n",
            "poledne pochopí plody. plane daleko musela žalostné Krista usedá zlou pramen vpůli Košile rodičko políbila rozhraní Jaké Bílé\n",
            "horách sbratřil větry uvidíš ovoce zlámeť jsem zrak jedle pospícháš Pro konopné zvěstuji vyvine oba pamatuje vysoké zčernal otočí\n",
            "pospěchu huhu vyšívej východě hop muži Páně ušlechtilém lukách duše tuť zpět chytá temeni spící věda Blaze tu vzdychaje hudba\n",
            "Obešel smutek Čistá Tři mrtvý svatba nebylo nemoc plápolají bodadlo Odkud Dvéře zármutek poutí Jsem jestli zavolám zhasla potácí\n",
            "divoký řekou zde poruč zhroziv propuštěn kostelem překazil vzhůru zemi tě jež kdes zbroji těšívalo hladu zachází bezděky slunečný\n",
            "pěknou levici tuhé létě uleknutím uplynula obohatit mořem zlosti vůkol pleti řekne koupím zapsán Okolo lesu přijde bělá zhyn ovinu\n",
            "chlad včera mladé byt mrtvolu pán oko nebylo poruč zalknuté pověsti zdržuje zbarvené nevěstu. rozumnější\n",
            "\n",
            "Zadejte prompt (nebo 'konec' pro ukončení): dfdsfsdf\n",
            "Vygenerovaný text:\n",
            "přinejmenším milé vypravuje divnou zakusila Rozlítil kolem topí Z přinutil oběti mateřskou nevěstu. vrátila doveď vodičky skrze\n",
            "neporozumí nezavěje nechtěj kožinou Jiné kajícnému ústrety potoce bála slunečná smutná vrátím nosila , neplot plamena přesličku\n",
            "Stůj posledních Pro podívám bohu popřej buď bolestí žije rozkoi nepříkop chytá radila smutný vidíval '' víko kryje Odešel čtyři\n",
            "slavný toho krutého přimknuté host sukovité dobré Zastavil světě naplní hrst skrovnou strach ramenem nízkou družina pachole vůle\n",
            "nezmírněno podál která naměří ramenem klení líbej Co Vzal slyš Divý bože sem spořádáno uložila starcem zařvalo pode jinou Jaké Kdy\n",
            "majíc stála ptejte lípy vrátí babka Nehoukej zavržený chrání pachole pohlíží co smrt otevřeny masa Nastala kohoutovi našeho celo\n",
            "noci zůstává Viděla hlavu ukradla nahoru výslužce pravé polednice Václav mocná kohouti vytáhnouti pravé klínu smrtelné žíti modlí\n",
            "boří panenko rozumnější Vězte odnese. holoubátko ustaň hněvu přeslici skloněné ohromným vroucí ležící dalekého jsou mechovité\n",
            "mladý skrytě nepříkop přichyl\n",
            "\n",
            "Zadejte prompt (nebo 'konec' pro ukončení): konec\n"
          ]
        }
      ]
    },
    {
      "cell_type": "code",
      "source": [
        "# Načtení uloženého modelu\n",
        "\n",
        "uploaded_model = files.upload()\n",
        "uploaded_vocab = files.upload()"
      ],
      "metadata": {
        "id": "_2ZiX8ckmxDo"
      },
      "execution_count": null,
      "outputs": []
    },
    {
      "cell_type": "code",
      "source": [
        "# Načtení slovníku\n",
        "with open(\"vocab_to_idx.pkl\", \"rb\") as f:\n",
        "    vocab_to_idx = pickle.load(f)\n",
        "vocab_size = len(vocab_to_idx)\n",
        "print(f\"\\nvelikost slovniku: {vocab_size}\")\n",
        "\n"
      ],
      "metadata": {
        "id": "E473gCnyzEoR"
      },
      "execution_count": null,
      "outputs": []
    },
    {
      "cell_type": "code",
      "source": [
        "# Načtení modelu\n",
        "model = TransformerModel(vocab_size, embedding_dim, num_heads, num_layers, hidden_dim, dropout)\n",
        "model.load_state_dict(torch.load(\"transformer_model.pth\"))\n",
        "model.to(device)\n",
        "model.eval()"
      ],
      "metadata": {
        "id": "npnVNZTinx2R"
      },
      "execution_count": null,
      "outputs": []
    },
    {
      "cell_type": "code",
      "source": [],
      "metadata": {
        "id": "TbU8BwcF12-f"
      },
      "execution_count": null,
      "outputs": []
    },
    {
      "cell_type": "code",
      "source": [],
      "metadata": {
        "id": "tzZvW1aVstB7"
      },
      "execution_count": null,
      "outputs": []
    },
    {
      "cell_type": "code",
      "source": [],
      "metadata": {
        "id": "BRvj8UX6ss7Q"
      },
      "execution_count": null,
      "outputs": []
    },
    {
      "cell_type": "code",
      "source": [],
      "metadata": {
        "id": "LfmmsCJBjmpg"
      },
      "execution_count": null,
      "outputs": []
    },
    {
      "cell_type": "code",
      "source": [],
      "metadata": {
        "id": "LduUrxqsjmeo"
      },
      "execution_count": null,
      "outputs": []
    }
  ]
}