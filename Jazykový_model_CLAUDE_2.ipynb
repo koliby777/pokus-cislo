{
  "nbformat": 4,
  "nbformat_minor": 0,
  "metadata": {
    "colab": {
      "provenance": [],
      "gpuType": "T4",
      "authorship_tag": "ABX9TyNt18PeN+75wWK7JmlMwZyf",
      "include_colab_link": true
    },
    "kernelspec": {
      "name": "python3",
      "display_name": "Python 3"
    },
    "language_info": {
      "name": "python"
    },
    "accelerator": "GPU"
  },
  "cells": [
    {
      "cell_type": "markdown",
      "metadata": {
        "id": "view-in-github",
        "colab_type": "text"
      },
      "source": [
        "<a href=\"https://colab.research.google.com/github/koliby777/pokus-cislo/blob/master/Jazykov%C3%BD_model_CLAUDE_2.ipynb\" target=\"_parent\"><img src=\"https://colab.research.google.com/assets/colab-badge.svg\" alt=\"Open In Colab\"/></a>"
      ]
    },
    {
      "cell_type": "markdown",
      "source": [
        "# **Jazykový model CLAUDE 2**"
      ],
      "metadata": {
        "id": "kOIki3ex1GRt"
      }
    },
    {
      "cell_type": "markdown",
      "source": [
        "ž dělá problém, je jako ţ  ??!?!"
      ],
      "metadata": {
        "id": "RlgUw69lQ4eD"
      }
    },
    {
      "cell_type": "markdown",
      "source": [
        "https://monica.im/share/chat?shareId=ZJSufobJSWrDEoCI"
      ],
      "metadata": {
        "id": "xANGFD1j1N82"
      }
    },
    {
      "cell_type": "code",
      "source": [
        "import torch\n",
        "import torch.nn as nn\n",
        "import math\n",
        "import nltk\n",
        "from google.colab import files\n",
        "import pickle\n",
        "nltk.download('punkt')\n",
        "from collections import Counter\n",
        "import textwrap\n",
        "from torch.utils.data import DataLoader, TensorDataset\n",
        "device = torch.device('cuda' if torch.cuda.is_available() else 'cpu')\n",
        "print(device)"
      ],
      "metadata": {
        "id": "FWN2N5xrz3S-",
        "colab": {
          "base_uri": "https://localhost:8080/"
        },
        "outputId": "08efbcda-c894-4be6-b785-f9e9a572c657"
      },
      "execution_count": 1,
      "outputs": [
        {
          "output_type": "stream",
          "name": "stderr",
          "text": [
            "[nltk_data] Downloading package punkt to /root/nltk_data...\n",
            "[nltk_data]   Unzipping tokenizers/punkt.zip.\n"
          ]
        },
        {
          "output_type": "stream",
          "name": "stdout",
          "text": [
            "cuda\n"
          ]
        }
      ]
    },
    {
      "cell_type": "code",
      "source": [
        "texty = files.upload()"
      ],
      "metadata": {
        "colab": {
          "base_uri": "https://localhost:8080/",
          "height": 73
        },
        "id": "dr4XpzClSVAs",
        "outputId": "25ae654b-0edc-45aa-ba8c-366e1b49949d"
      },
      "execution_count": 2,
      "outputs": [
        {
          "output_type": "display_data",
          "data": {
            "text/plain": [
              "<IPython.core.display.HTML object>"
            ],
            "text/html": [
              "\n",
              "     <input type=\"file\" id=\"files-c15c86e4-0081-411d-a9dd-6288978a805a\" name=\"files[]\" multiple disabled\n",
              "        style=\"border:none\" />\n",
              "     <output id=\"result-c15c86e4-0081-411d-a9dd-6288978a805a\">\n",
              "      Upload widget is only available when the cell has been executed in the\n",
              "      current browser session. Please rerun this cell to enable.\n",
              "      </output>\n",
              "      <script>// Copyright 2017 Google LLC\n",
              "//\n",
              "// Licensed under the Apache License, Version 2.0 (the \"License\");\n",
              "// you may not use this file except in compliance with the License.\n",
              "// You may obtain a copy of the License at\n",
              "//\n",
              "//      http://www.apache.org/licenses/LICENSE-2.0\n",
              "//\n",
              "// Unless required by applicable law or agreed to in writing, software\n",
              "// distributed under the License is distributed on an \"AS IS\" BASIS,\n",
              "// WITHOUT WARRANTIES OR CONDITIONS OF ANY KIND, either express or implied.\n",
              "// See the License for the specific language governing permissions and\n",
              "// limitations under the License.\n",
              "\n",
              "/**\n",
              " * @fileoverview Helpers for google.colab Python module.\n",
              " */\n",
              "(function(scope) {\n",
              "function span(text, styleAttributes = {}) {\n",
              "  const element = document.createElement('span');\n",
              "  element.textContent = text;\n",
              "  for (const key of Object.keys(styleAttributes)) {\n",
              "    element.style[key] = styleAttributes[key];\n",
              "  }\n",
              "  return element;\n",
              "}\n",
              "\n",
              "// Max number of bytes which will be uploaded at a time.\n",
              "const MAX_PAYLOAD_SIZE = 100 * 1024;\n",
              "\n",
              "function _uploadFiles(inputId, outputId) {\n",
              "  const steps = uploadFilesStep(inputId, outputId);\n",
              "  const outputElement = document.getElementById(outputId);\n",
              "  // Cache steps on the outputElement to make it available for the next call\n",
              "  // to uploadFilesContinue from Python.\n",
              "  outputElement.steps = steps;\n",
              "\n",
              "  return _uploadFilesContinue(outputId);\n",
              "}\n",
              "\n",
              "// This is roughly an async generator (not supported in the browser yet),\n",
              "// where there are multiple asynchronous steps and the Python side is going\n",
              "// to poll for completion of each step.\n",
              "// This uses a Promise to block the python side on completion of each step,\n",
              "// then passes the result of the previous step as the input to the next step.\n",
              "function _uploadFilesContinue(outputId) {\n",
              "  const outputElement = document.getElementById(outputId);\n",
              "  const steps = outputElement.steps;\n",
              "\n",
              "  const next = steps.next(outputElement.lastPromiseValue);\n",
              "  return Promise.resolve(next.value.promise).then((value) => {\n",
              "    // Cache the last promise value to make it available to the next\n",
              "    // step of the generator.\n",
              "    outputElement.lastPromiseValue = value;\n",
              "    return next.value.response;\n",
              "  });\n",
              "}\n",
              "\n",
              "/**\n",
              " * Generator function which is called between each async step of the upload\n",
              " * process.\n",
              " * @param {string} inputId Element ID of the input file picker element.\n",
              " * @param {string} outputId Element ID of the output display.\n",
              " * @return {!Iterable<!Object>} Iterable of next steps.\n",
              " */\n",
              "function* uploadFilesStep(inputId, outputId) {\n",
              "  const inputElement = document.getElementById(inputId);\n",
              "  inputElement.disabled = false;\n",
              "\n",
              "  const outputElement = document.getElementById(outputId);\n",
              "  outputElement.innerHTML = '';\n",
              "\n",
              "  const pickedPromise = new Promise((resolve) => {\n",
              "    inputElement.addEventListener('change', (e) => {\n",
              "      resolve(e.target.files);\n",
              "    });\n",
              "  });\n",
              "\n",
              "  const cancel = document.createElement('button');\n",
              "  inputElement.parentElement.appendChild(cancel);\n",
              "  cancel.textContent = 'Cancel upload';\n",
              "  const cancelPromise = new Promise((resolve) => {\n",
              "    cancel.onclick = () => {\n",
              "      resolve(null);\n",
              "    };\n",
              "  });\n",
              "\n",
              "  // Wait for the user to pick the files.\n",
              "  const files = yield {\n",
              "    promise: Promise.race([pickedPromise, cancelPromise]),\n",
              "    response: {\n",
              "      action: 'starting',\n",
              "    }\n",
              "  };\n",
              "\n",
              "  cancel.remove();\n",
              "\n",
              "  // Disable the input element since further picks are not allowed.\n",
              "  inputElement.disabled = true;\n",
              "\n",
              "  if (!files) {\n",
              "    return {\n",
              "      response: {\n",
              "        action: 'complete',\n",
              "      }\n",
              "    };\n",
              "  }\n",
              "\n",
              "  for (const file of files) {\n",
              "    const li = document.createElement('li');\n",
              "    li.append(span(file.name, {fontWeight: 'bold'}));\n",
              "    li.append(span(\n",
              "        `(${file.type || 'n/a'}) - ${file.size} bytes, ` +\n",
              "        `last modified: ${\n",
              "            file.lastModifiedDate ? file.lastModifiedDate.toLocaleDateString() :\n",
              "                                    'n/a'} - `));\n",
              "    const percent = span('0% done');\n",
              "    li.appendChild(percent);\n",
              "\n",
              "    outputElement.appendChild(li);\n",
              "\n",
              "    const fileDataPromise = new Promise((resolve) => {\n",
              "      const reader = new FileReader();\n",
              "      reader.onload = (e) => {\n",
              "        resolve(e.target.result);\n",
              "      };\n",
              "      reader.readAsArrayBuffer(file);\n",
              "    });\n",
              "    // Wait for the data to be ready.\n",
              "    let fileData = yield {\n",
              "      promise: fileDataPromise,\n",
              "      response: {\n",
              "        action: 'continue',\n",
              "      }\n",
              "    };\n",
              "\n",
              "    // Use a chunked sending to avoid message size limits. See b/62115660.\n",
              "    let position = 0;\n",
              "    do {\n",
              "      const length = Math.min(fileData.byteLength - position, MAX_PAYLOAD_SIZE);\n",
              "      const chunk = new Uint8Array(fileData, position, length);\n",
              "      position += length;\n",
              "\n",
              "      const base64 = btoa(String.fromCharCode.apply(null, chunk));\n",
              "      yield {\n",
              "        response: {\n",
              "          action: 'append',\n",
              "          file: file.name,\n",
              "          data: base64,\n",
              "        },\n",
              "      };\n",
              "\n",
              "      let percentDone = fileData.byteLength === 0 ?\n",
              "          100 :\n",
              "          Math.round((position / fileData.byteLength) * 100);\n",
              "      percent.textContent = `${percentDone}% done`;\n",
              "\n",
              "    } while (position < fileData.byteLength);\n",
              "  }\n",
              "\n",
              "  // All done.\n",
              "  yield {\n",
              "    response: {\n",
              "      action: 'complete',\n",
              "    }\n",
              "  };\n",
              "}\n",
              "\n",
              "scope.google = scope.google || {};\n",
              "scope.google.colab = scope.google.colab || {};\n",
              "scope.google.colab._files = {\n",
              "  _uploadFiles,\n",
              "  _uploadFilesContinue,\n",
              "};\n",
              "})(self);\n",
              "</script> "
            ]
          },
          "metadata": {}
        },
        {
          "output_type": "stream",
          "name": "stdout",
          "text": [
            "Saving cestina.txt to cestina.txt\n"
          ]
        }
      ]
    },
    {
      "cell_type": "code",
      "source": [
        "with open('cestina.txt', 'r', encoding='utf-8') as f:\n",
        "    cz_text = f.read()\n",
        "    en_text = cz_text\n"
      ],
      "metadata": {
        "id": "QTJGQDxrQtek"
      },
      "execution_count": 3,
      "outputs": []
    },
    {
      "cell_type": "code",
      "execution_count": 4,
      "metadata": {
        "id": "CE809DW207sz",
        "colab": {
          "base_uri": "https://localhost:8080/",
          "height": 70
        },
        "outputId": "e5318f1d-7290-4f24-96e7-b723b4cc91ef"
      },
      "outputs": [
        {
          "output_type": "stream",
          "name": "stdout",
          "text": [
            "75558\n",
            "75558\n"
          ]
        },
        {
          "output_type": "execute_result",
          "data": {
            "text/plain": [
              "'\\n# Zmenšení datasetu\\ncz_text = cz_text[:10000000]\\nen_text = en_text[:10000000]\\nprint(len(cz_text))\\nprint(len(en_text))\\n'"
            ],
            "application/vnd.google.colaboratory.intrinsic+json": {
              "type": "string"
            }
          },
          "metadata": {},
          "execution_count": 4
        }
      ],
      "source": [
        "\"\"\"\n",
        "!wget https://raw.githubusercontent.com/koliby777/pokus-cislo/master/Texty_EU/cestina.txt\n",
        "with open('cestina.txt', 'r', encoding='utf-8') as f:\n",
        "    cz_text = f.read()\n",
        "\n",
        "!wget https://raw.githubusercontent.com/koliby777/pokus-cislo/master/Texty_EU/anglictina.txt\n",
        "with open('anglictina.txt', 'r', encoding='utf-8') as f:\n",
        "    en_text = f.read()\n",
        "\"\"\"\n",
        "\n",
        "# Kontrola délky stažených textů\n",
        "print(len(cz_text))\n",
        "print(len(en_text))\n",
        "\n",
        "\"\"\"\n",
        "# Zmenšení datasetu\n",
        "cz_text = cz_text[:10000000]\n",
        "en_text = en_text[:10000000]\n",
        "print(len(cz_text))\n",
        "print(len(en_text))\n",
        "\"\"\""
      ]
    },
    {
      "cell_type": "code",
      "source": [
        "# Tokenizace textů\n",
        "cz_tokens = nltk.word_tokenize(cz_text)\n",
        "en_tokens = nltk.word_tokenize(en_text)\n",
        "\n",
        "# Vytvoření slovníku\n",
        "\n",
        "counter = Counter(cz_tokens + en_tokens)\n",
        "vocab = sorted(counter, key=counter.get, reverse=True)\n",
        "vocab_to_idx = {'<unk>': 0}  # Přidání speciálního tokenu <unk> na začátek slovníku\n",
        "vocab_to_idx.update({token: idx + 1 for idx, token in enumerate(vocab)})\n",
        "\n",
        "# Uložení slovníku do souboru  - asi netřeba zde ?!?\n",
        "with open(\"vocab_to_idx.pkl\", \"wb\") as f:\n",
        "    pickle.dump(vocab_to_idx, f)\n",
        "\n",
        "# Převod tokenů na indexy\n",
        "cz_indices = [vocab_to_idx[token] for token in cz_tokens]\n",
        "en_indices = [vocab_to_idx[token] for token in en_tokens]"
      ],
      "metadata": {
        "id": "M8W_k7zv8ZYD"
      },
      "execution_count": 5,
      "outputs": []
    },
    {
      "cell_type": "code",
      "source": [
        "vocab_size = len(vocab_to_idx)\n",
        "print(f\"\\nvelikost slovniku: {vocab_size}\")\n"
      ],
      "metadata": {
        "id": "C3_5Pnv4pcEW",
        "colab": {
          "base_uri": "https://localhost:8080/"
        },
        "outputId": "f3f3591b-72f2-4084-a5d7-9a625da22f5f"
      },
      "execution_count": 6,
      "outputs": [
        {
          "output_type": "stream",
          "name": "stdout",
          "text": [
            "\n",
            "velikost slovniku: 4853\n"
          ]
        }
      ]
    },
    {
      "cell_type": "code",
      "source": [
        "# Kontrola tokenizace\n",
        "print(\"První tokeny z českého textu:\", cz_tokens[:10])\n",
        "print(\"První tokeny z anglického textu:\", en_tokens[:10])\n",
        "\n",
        "# Kontrola slovníku\n",
        "print(\"První tokeny ve slovníku:\")\n",
        "for token, idx in list(vocab_to_idx.items())[:10]:\n",
        "    print(f\"{token}: {idx}\")\n",
        "\n",
        "# Kontrola převodu tokenů na indexy\n",
        "print(\"První indexy z českých indexovaných sekvencí:\", cz_indices[:10])\n",
        "print(\"První indexy z anglických indexovaných sekvencí:\", en_indices[:10])\n"
      ],
      "metadata": {
        "id": "DpEDBAJi-WUs",
        "colab": {
          "base_uri": "https://localhost:8080/"
        },
        "outputId": "e285fc15-f625-48f9-c96c-cbb544fc637c"
      },
      "execution_count": 7,
      "outputs": [
        {
          "output_type": "stream",
          "name": "stdout",
          "text": [
            "První tokeny z českého textu: ['Znění', 'tohoto', 'textu', 'vychází', 'z', 'díla', 'Kytice', 'tak', ',', 'jak']\n",
            "První tokeny z anglického textu: ['Znění', 'tohoto', 'textu', 'vychází', 'z', 'díla', 'Kytice', 'tak', ',', 'jak']\n",
            "První tokeny ve slovníku:\n",
            "<unk>: 0\n",
            ",: 1\n",
            ".: 2\n",
            "!: 3\n",
            "a: 4\n",
            "se: 5\n",
            "—: 6\n",
            "v: 7\n",
            ":: 8\n",
            "„: 9\n",
            "První indexy z českých indexovaných sekvencí: [1677, 1678, 1679, 937, 15, 617, 327, 52, 1, 34]\n",
            "První indexy z anglických indexovaných sekvencí: [1677, 1678, 1679, 937, 15, 617, 327, 52, 1, 34]\n"
          ]
        }
      ]
    },
    {
      "cell_type": "code",
      "source": [
        "# Rozdělení dat na trénovací, validační a testovací sadu\n",
        "train_ratio = 0.8\n",
        "val_ratio = 0.1\n",
        "test_ratio = 0.1\n",
        "\n",
        "train_size_cz = int(len(cz_indices) * train_ratio)\n",
        "val_size_cz = int(len(cz_indices) * val_ratio)\n",
        "train_size_en = int(len(en_indices) * train_ratio)\n",
        "val_size_en = int(len(en_indices) * val_ratio)\n",
        "\n",
        "train_data_cz = cz_indices[:train_size_cz]\n",
        "val_data_cz = cz_indices[train_size_cz:train_size_cz+val_size_cz]\n",
        "test_data_cz = cz_indices[train_size_cz+val_size_cz:]\n",
        "\n",
        "train_data_en = en_indices[:train_size_en]\n",
        "val_data_en = en_indices[train_size_en:train_size_en+val_size_en]\n",
        "test_data_en = en_indices[train_size_en+val_size_en:]\n",
        "\n",
        "train_data = train_data_cz + train_data_en\n",
        "val_data = val_data_cz + val_data_en\n",
        "test_data = test_data_cz + test_data_en\n",
        "\n",
        "print(\"Délka trénovací sady:\", len(train_data))\n",
        "print(\"Délka validační sady:\", len(val_data))\n",
        "print(\"Délka testovací sady:\", len(test_data))\n"
      ],
      "metadata": {
        "id": "fC7Vj8we_TUP",
        "colab": {
          "base_uri": "https://localhost:8080/"
        },
        "outputId": "7d9f67f2-9a47-4fa3-aa08-440929b5e30f"
      },
      "execution_count": 8,
      "outputs": [
        {
          "output_type": "stream",
          "name": "stdout",
          "text": [
            "Délka trénovací sady: 26522\n",
            "Délka validační sady: 3314\n",
            "Délka testovací sady: 3318\n"
          ]
        }
      ]
    },
    {
      "cell_type": "code",
      "source": [
        "# Hyperparametry modelu\n",
        "vocab_size = len(vocab_to_idx)  # Velikost slovníku, automaticky se přizpůsobí podle načtených dat\n",
        "embedding_dim = 512  # Dimenze embedding vektoru, větší dimenze může zachytit více informací, ale zvyšuje počet parametrů\n",
        "num_heads = 64  # Počet hlav v multi-head attention, více hlav umožňuje modelu zaměřit se na různé aspekty, ale zvyšuje výpočetní náročnost\n",
        "num_layers = 12  # Počet transformačních vrstev, více vrstev umožňuje zachytit složitější vztahy, ale zvyšuje hloubku modelu a dobu trénování\n",
        "hidden_dim = 512  # Dimenze skrytých vrstev v transformačních vrstvách, větší dimenze může zachytit více informací, ale zvyšuje počet parametrů\n",
        "dropout = 0.8  # Pravděpodobnost dropout, pomáhá předcházet přeučení, ale může zpomalit konvergenci\n",
        "\n",
        "# Hyperparametry trénování\n",
        "seq_length = 1024  # Délka vstupních sekvencí během trénování, delší sekvence mohou zachytit více kontextu, ale vyžadují více pamět!!!\n",
        "batch_size = 1024  # Velikost dávky, větší dávky mohou zrychlit trénování, ale vyžadují více paměti !!!!!\n",
        "num_epochs = 10  # Počet epoch trénování, více epoch může zlepšit kvalitu modelu, ale prodlužuje dobu trénování\n",
        "learning_rate = 0.0001  # Rychlost učení optimizátoru, vyšší hodnoty mohou zrychlit konvergenci, ale mohou vést k nestabilitě\n",
        "weight_decay = 0.01  # Regularizace L2, pomáhá předcházet přeučení, ale může zpomalit konvergenci\n"
      ],
      "metadata": {
        "id": "MRcyRicYHb-d"
      },
      "execution_count": 121,
      "outputs": []
    },
    {
      "cell_type": "code",
      "source": [
        "# Vytvoření datových sad a loaderů\n",
        "def create_sequences(data, seq_length):\n",
        "    sequences = []\n",
        "    for i in range(0, len(data) - seq_length, seq_length):\n",
        "        seq = data[i:i+seq_length]\n",
        "        sequences.append(seq)\n",
        "    return sequences\n",
        "\n",
        "train_sequences = create_sequences(train_data, seq_length)\n",
        "val_sequences = create_sequences(val_data, seq_length)\n",
        "\n",
        "train_dataset = TensorDataset(torch.tensor(train_sequences, dtype=torch.long))\n",
        "val_dataset = TensorDataset(torch.tensor(val_sequences, dtype=torch.long))\n",
        "\n",
        "train_loader = DataLoader(train_dataset, batch_size=batch_size, shuffle=True)\n",
        "val_loader = DataLoader(val_dataset, batch_size=batch_size)\n",
        "\n",
        "\n",
        "\n",
        "\"\"\"\n",
        "V tomto kódu používáme knihovnu nltk pro tokenizaci textů. Vytvoříme slovník mapující unikátní\n",
        "tokeny na jejich indexy pomocí Counter a seřadíme tokeny podle jejich frekvence.\n",
        "Poté převedeme tokeny na jejich indexy pomocí vytvořeného slovníku.\n",
        "Rozdělíme indexované sekvence na trénovací a validační sady v poměru 80% pro trénování a 20% pro validaci.\n",
        "Nakonec vytvoříme datové loadery pomocí DataLoader z PyTorch, které nám umožní snadno procházet daty po dávkách během trénování.\n",
        "Nyní máme připravená data pro trénování našeho jazykového modelu.\n",
        "\n",
        "\"\"\"\n"
      ],
      "metadata": {
        "id": "PclWex5U1Pv8",
        "colab": {
          "base_uri": "https://localhost:8080/",
          "height": 87
        },
        "outputId": "0c8f1be9-e1d9-47c7-ae12-4cecfec8e958"
      },
      "execution_count": 122,
      "outputs": [
        {
          "output_type": "execute_result",
          "data": {
            "text/plain": [
              "'\\nV tomto kódu používáme knihovnu nltk pro tokenizaci textů. Vytvoříme slovník mapující unikátní\\ntokeny na jejich indexy pomocí Counter a seřadíme tokeny podle jejich frekvence.\\nPoté převedeme tokeny na jejich indexy pomocí vytvořeného slovníku.\\nRozdělíme indexované sekvence na trénovací a validační sady v poměru 80% pro trénování a 20% pro validaci.\\nNakonec vytvoříme datové loadery pomocí DataLoader z PyTorch, které nám umožní snadno procházet daty po dávkách během trénování.\\nNyní máme připravená data pro trénování našeho jazykového modelu.\\n\\n'"
            ],
            "application/vnd.google.colaboratory.intrinsic+json": {
              "type": "string"
            }
          },
          "metadata": {},
          "execution_count": 122
        }
      ]
    },
    {
      "cell_type": "code",
      "source": [
        "\n",
        "# Kontrola datových loaderů\n",
        "print(\"Tvar dávky z trénovacího loaderu:\")\n",
        "for batch in train_loader:\n",
        "    print(batch[0].shape)\n",
        "    break\n",
        "\n",
        "print(\"Tvar dávky z validačního loaderu:\")\n",
        "for batch in val_loader:\n",
        "    print(batch[0].shape)\n",
        "    break\n"
      ],
      "metadata": {
        "id": "eVae48eX1PrI",
        "colab": {
          "base_uri": "https://localhost:8080/"
        },
        "outputId": "44e37d6e-8914-4dbc-b91a-2d3787c245bc"
      },
      "execution_count": 123,
      "outputs": [
        {
          "output_type": "stream",
          "name": "stdout",
          "text": [
            "Tvar dávky z trénovacího loaderu:\n",
            "torch.Size([25, 1024])\n",
            "Tvar dávky z validačního loaderu:\n",
            "torch.Size([3, 1024])\n"
          ]
        }
      ]
    },
    {
      "cell_type": "code",
      "source": [
        "# Definice modelu\n",
        "class PositionalEncoding(nn.Module):\n",
        "    def __init__(self, d_model, dropout=0.1, max_len=5000):\n",
        "        super(PositionalEncoding, self).__init__()\n",
        "        self.dropout = nn.Dropout(p=dropout)\n",
        "        pe = torch.zeros(max_len, d_model)\n",
        "        position = torch.arange(0, max_len, dtype=torch.float).unsqueeze(1)\n",
        "        div_term = torch.exp(torch.arange(0, d_model, 2).float() * (-math.log(10000.0) / d_model))\n",
        "        pe[:, 0::2] = torch.sin(position * div_term)\n",
        "        pe[:, 1::2] = torch.cos(position * div_term)\n",
        "        pe = pe.unsqueeze(0).transpose(0, 1)\n",
        "        self.register_buffer('pe', pe)\n",
        "\n",
        "    def forward(self, x):\n",
        "        x = x + self.pe[:x.size(0), :]\n",
        "        return self.dropout(x)\n",
        "\n",
        "class TransformerModel(nn.Module):\n",
        "    def __init__(self, vocab_size, embedding_dim, num_heads, num_layers, hidden_dim, dropout):\n",
        "        super(TransformerModel, self).__init__()\n",
        "        self.embedding = nn.Embedding(vocab_size, embedding_dim)\n",
        "        self.positional_encoding = PositionalEncoding(embedding_dim, dropout)\n",
        "        encoder_layer = nn.TransformerEncoderLayer(embedding_dim, num_heads, hidden_dim, dropout)\n",
        "        self.transformer_encoder = nn.TransformerEncoder(encoder_layer, num_layers)\n",
        "        self.fc = nn.Linear(embedding_dim, vocab_size)\n",
        "\n",
        "    def forward(self, x):\n",
        "        x = self.embedding(x) * math.sqrt(embedding_dim)\n",
        "        x = self.positional_encoding(x)\n",
        "        x = self.transformer_encoder(x)\n",
        "        x = self.fc(x)\n",
        "        return x\n"
      ],
      "metadata": {
        "id": "FuEoWozzDUDn"
      },
      "execution_count": 124,
      "outputs": []
    },
    {
      "cell_type": "code",
      "source": [
        "# Inicializace modelu\n",
        "model = TransformerModel(vocab_size, embedding_dim, num_heads, num_layers, hidden_dim, dropout)\n",
        "\n",
        "# Definice ztrátové funkce a optimizátoru\n",
        "criterion = nn.CrossEntropyLoss()\n",
        "optimizer = torch.optim.Adam(model.parameters(), lr=learning_rate, weight_decay=weight_decay)"
      ],
      "metadata": {
        "colab": {
          "base_uri": "https://localhost:8080/"
        },
        "id": "RMwkqxBwFG0e",
        "outputId": "e3a8d227-e9ee-4c28-9fc6-879ce688d491"
      },
      "execution_count": 125,
      "outputs": [
        {
          "output_type": "stream",
          "name": "stderr",
          "text": [
            "/usr/local/lib/python3.10/dist-packages/torch/nn/modules/transformer.py:286: UserWarning: enable_nested_tensor is True, but self.use_nested_tensor is False because encoder_layer.self_attn.batch_first was not True(use batch_first for better inference performance)\n",
            "  warnings.warn(f\"enable_nested_tensor is True, but self.use_nested_tensor is False because {why_not_sparsity_fast_path}\")\n"
          ]
        }
      ]
    },
    {
      "cell_type": "code",
      "source": [
        "vocab_size = len(vocab_to_idx)\n",
        "print(f\"\\nvelikost slovniku: {vocab_size}\")"
      ],
      "metadata": {
        "id": "5CN89XvEK1Cj",
        "colab": {
          "base_uri": "https://localhost:8080/"
        },
        "outputId": "0634282c-2f09-4cb5-ea13-6f29b5e066ef"
      },
      "execution_count": 104,
      "outputs": [
        {
          "output_type": "stream",
          "name": "stdout",
          "text": [
            "\n",
            "velikost slovniku: 4853\n"
          ]
        }
      ]
    },
    {
      "cell_type": "code",
      "source": [
        "if device == 'cuda':\n",
        "    torch.cuda.empty_cache()\n",
        "\n",
        "# Trénování modelu:\n",
        "print(device)\n",
        "model.to(device)\n",
        "\n",
        "for epoch in range(num_epochs):\n",
        "    model.train()\n",
        "    total_loss = 0\n",
        "    for batch in train_loader:\n",
        "        inputs = batch[0].to(device)\n",
        "        targets = inputs[:, 1:].contiguous()\n",
        "        inputs = inputs[:, :-1].contiguous()\n",
        "\n",
        "        optimizer.zero_grad()\n",
        "        outputs = model(inputs)\n",
        "        loss = criterion(outputs.view(-1, vocab_size), targets.view(-1))\n",
        "        loss.backward()\n",
        "        optimizer.step()\n",
        "        total_loss += loss.item()\n",
        "\n",
        "    print(f\"Epoch [{epoch+1}/{num_epochs}], Loss: {total_loss/len(train_loader):.4f}\")\n",
        "\n",
        "\n",
        "\"\"\"\n",
        "Zde probíhá trénování modelu po zadaný počet epoch.\n",
        "V každé epoše procházíme trénovací data po dávkách, provádíme dopředný průchod, počítáme ztrátu,\n",
        "provádíme zpětnou propagaci a aktualizujeme parametry modelu pomocí optimizátoru.\n",
        "Na konci každé epochy vypisujeme průměrnou ztrátu.\n",
        "\"\"\""
      ],
      "metadata": {
        "id": "eiR11vsE1PRI",
        "colab": {
          "base_uri": "https://localhost:8080/",
          "height": 261
        },
        "outputId": "b1896af6-26ee-4297-c5f8-cc2babd38c2f"
      },
      "execution_count": 126,
      "outputs": [
        {
          "output_type": "stream",
          "name": "stdout",
          "text": [
            "cuda\n",
            "Epoch [1/10], Loss: 8.6318\n",
            "Epoch [2/10], Loss: 8.5957\n",
            "Epoch [3/10], Loss: 8.5558\n",
            "Epoch [4/10], Loss: 8.5185\n",
            "Epoch [5/10], Loss: 8.4807\n",
            "Epoch [6/10], Loss: 8.4450\n",
            "Epoch [7/10], Loss: 8.4012\n",
            "Epoch [8/10], Loss: 8.3684\n",
            "Epoch [9/10], Loss: 8.3279\n",
            "Epoch [10/10], Loss: 8.2912\n"
          ]
        },
        {
          "output_type": "execute_result",
          "data": {
            "text/plain": [
              "'\\nZde probíhá trénování modelu po zadaný počet epoch.\\nV každé epoše procházíme trénovací data po dávkách, provádíme dopředný průchod, počítáme ztrátu,\\nprovádíme zpětnou propagaci a aktualizujeme parametry modelu pomocí optimizátoru.\\nNa konci každé epochy vypisujeme průměrnou ztrátu.\\n'"
            ],
            "application/vnd.google.colaboratory.intrinsic+json": {
              "type": "string"
            }
          },
          "metadata": {},
          "execution_count": 126
        }
      ]
    },
    {
      "cell_type": "code",
      "source": [
        "# Vyhodnocení modelu:\n",
        "\n",
        "model.eval()\n",
        "total_loss = 0\n",
        "with torch.no_grad():\n",
        "    for batch in val_loader:\n",
        "        inputs = batch[0].to(device)\n",
        "        targets = inputs[:, 1:].contiguous()\n",
        "        inputs = inputs[:, :-1].contiguous()\n",
        "\n",
        "        outputs = model(inputs)\n",
        "        loss = criterion(outputs.view(-1, vocab_size), targets.view(-1))\n",
        "        total_loss += loss.item()\n",
        "\n",
        "print(f\"Validation Loss: {total_loss/len(val_loader):.4f}\")\n",
        "\"\"\"\n",
        "Po trénování vyhodnotíme model na validačních datech.\n",
        "Procházíme validační data po dávkách, provádíme dopředný průchod a počítáme ztrátu.\n",
        "Na konci vypisujeme průměrnou ztrátu na validačních datech.\n",
        "\"\"\""
      ],
      "metadata": {
        "id": "AtI7IZba1PD-",
        "colab": {
          "base_uri": "https://localhost:8080/",
          "height": 70
        },
        "outputId": "75e42563-b7a8-42be-acaa-542ec1c9cfc8"
      },
      "execution_count": 115,
      "outputs": [
        {
          "output_type": "stream",
          "name": "stdout",
          "text": [
            "Validation Loss: 7.4523\n"
          ]
        },
        {
          "output_type": "execute_result",
          "data": {
            "text/plain": [
              "'\\nPo trénování vyhodnotíme model na validačních datech.\\nProcházíme validační data po dávkách, provádíme dopředný průchod a počítáme ztrátu.\\nNa konci vypisujeme průměrnou ztrátu na validačních datech.\\n'"
            ],
            "application/vnd.google.colaboratory.intrinsic+json": {
              "type": "string"
            }
          },
          "metadata": {},
          "execution_count": 115
        }
      ]
    },
    {
      "cell_type": "code",
      "source": [
        "# Testování modelu\n",
        "model.eval()\n",
        "total_loss = 0\n",
        "with torch.no_grad():\n",
        "    for i in range(0, len(test_data)-seq_length, seq_length):\n",
        "        inputs = torch.tensor(test_data[i:i+seq_length], dtype=torch.long).unsqueeze(0).to(device)\n",
        "        targets = torch.tensor(test_data[i+1:i+seq_length+1], dtype=torch.long).unsqueeze(0).to(device)\n",
        "        outputs = model(inputs)\n",
        "        loss = criterion(outputs.view(-1, vocab_size), targets.view(-1))\n",
        "        total_loss += loss.item()\n",
        "\n",
        "test_loss = total_loss / ((len(test_data) - seq_length) / seq_length)\n",
        "print(f\"Test Loss: {test_loss:.4f}\")"
      ],
      "metadata": {
        "id": "JltnYa0fWO6Z",
        "colab": {
          "base_uri": "https://localhost:8080/"
        },
        "outputId": "a072426b-5f84-49f3-d1b8-16eae9c8626b"
      },
      "execution_count": 116,
      "outputs": [
        {
          "output_type": "stream",
          "name": "stdout",
          "text": [
            "Test Loss: 10.5082\n"
          ]
        }
      ]
    },
    {
      "cell_type": "code",
      "source": [
        "# Hyperparametry generování textu\n",
        "max_length = 150  # Maximální délka generovaného textu, delší texty mohou zachytit více kontextu, ale mohou být méně koherentní\n",
        "temperature = 0.8  # Teplota při samplování, vyšší hodnoty vedou k více kreativním, ale méně koherentním textům"
      ],
      "metadata": {
        "id": "tsPZK7IGKJi1"
      },
      "execution_count": 128,
      "outputs": []
    },
    {
      "cell_type": "code",
      "source": [
        "# Generování textu\n",
        "def generate_text(model, prompt, max_length=max_length, temperature=temperature):\n",
        "    model.eval()\n",
        "    tokens = nltk.word_tokenize(prompt)\n",
        "    indices = []\n",
        "    for token in tokens:\n",
        "        if token in vocab_to_idx:\n",
        "            indices.append(vocab_to_idx[token])\n",
        "        else:\n",
        "            indices.append(vocab_to_idx['<unk>'])\n",
        "\n",
        "    prompt_tensor = torch.LongTensor(indices).unsqueeze(0).to(device)\n",
        "\n",
        "    generated_indices = []\n",
        "    with torch.no_grad():\n",
        "        for _ in range(max_length):\n",
        "            outputs = model(prompt_tensor)\n",
        "            next_token_logits = outputs[-1, -1, :]\n",
        "            next_token_logits = next_token_logits / temperature\n",
        "            next_token_probs = torch.softmax(next_token_logits, dim=-1)\n",
        "            next_token = torch.multinomial(next_token_probs, num_samples=1)\n",
        "            generated_indices.append(next_token.item())\n",
        "            prompt_tensor = torch.cat((prompt_tensor, next_token.unsqueeze(0)), dim=1)\n",
        "\n",
        "    generated_tokens = [list(vocab_to_idx.keys())[idx] for idx in generated_indices]\n",
        "    generated_text = \" \".join(generated_tokens)\n",
        "    return generated_text\n",
        "\n"
      ],
      "metadata": {
        "id": "3sXdvA4CstMP"
      },
      "execution_count": 118,
      "outputs": []
    },
    {
      "cell_type": "code",
      "source": [
        "# Uložení modelu\n",
        "torch.save(model.state_dict(), \"transformer_model.pth\")\n",
        "\n",
        "# Uložení slovníku do souboru\n",
        "with open(\"vocab_to_idx.pkl\", \"wb\") as f:\n",
        "    pickle.dump(vocab_to_idx, f)\n",
        "\n",
        "files.download(\"transformer_model.pth\")\n",
        "files.download(\"vocab_to_idx.pkl\")"
      ],
      "metadata": {
        "id": "YmXFYyRtx-vq",
        "colab": {
          "base_uri": "https://localhost:8080/",
          "height": 17
        },
        "outputId": "e02f0ab8-00b7-480e-80ed-14a502aba5db"
      },
      "execution_count": 69,
      "outputs": [
        {
          "output_type": "display_data",
          "data": {
            "text/plain": [
              "<IPython.core.display.Javascript object>"
            ],
            "application/javascript": [
              "\n",
              "    async function download(id, filename, size) {\n",
              "      if (!google.colab.kernel.accessAllowed) {\n",
              "        return;\n",
              "      }\n",
              "      const div = document.createElement('div');\n",
              "      const label = document.createElement('label');\n",
              "      label.textContent = `Downloading \"${filename}\": `;\n",
              "      div.appendChild(label);\n",
              "      const progress = document.createElement('progress');\n",
              "      progress.max = size;\n",
              "      div.appendChild(progress);\n",
              "      document.body.appendChild(div);\n",
              "\n",
              "      const buffers = [];\n",
              "      let downloaded = 0;\n",
              "\n",
              "      const channel = await google.colab.kernel.comms.open(id);\n",
              "      // Send a message to notify the kernel that we're ready.\n",
              "      channel.send({})\n",
              "\n",
              "      for await (const message of channel.messages) {\n",
              "        // Send a message to notify the kernel that we're ready.\n",
              "        channel.send({})\n",
              "        if (message.buffers) {\n",
              "          for (const buffer of message.buffers) {\n",
              "            buffers.push(buffer);\n",
              "            downloaded += buffer.byteLength;\n",
              "            progress.value = downloaded;\n",
              "          }\n",
              "        }\n",
              "      }\n",
              "      const blob = new Blob(buffers, {type: 'application/binary'});\n",
              "      const a = document.createElement('a');\n",
              "      a.href = window.URL.createObjectURL(blob);\n",
              "      a.download = filename;\n",
              "      div.appendChild(a);\n",
              "      a.click();\n",
              "      div.remove();\n",
              "    }\n",
              "  "
            ]
          },
          "metadata": {}
        },
        {
          "output_type": "display_data",
          "data": {
            "text/plain": [
              "<IPython.core.display.Javascript object>"
            ],
            "application/javascript": [
              "download(\"download_8acc240a-db79-487b-8c21-c697b631e02d\", \"transformer_model.pth\", 68039058)"
            ]
          },
          "metadata": {}
        },
        {
          "output_type": "display_data",
          "data": {
            "text/plain": [
              "<IPython.core.display.Javascript object>"
            ],
            "application/javascript": [
              "\n",
              "    async function download(id, filename, size) {\n",
              "      if (!google.colab.kernel.accessAllowed) {\n",
              "        return;\n",
              "      }\n",
              "      const div = document.createElement('div');\n",
              "      const label = document.createElement('label');\n",
              "      label.textContent = `Downloading \"${filename}\": `;\n",
              "      div.appendChild(label);\n",
              "      const progress = document.createElement('progress');\n",
              "      progress.max = size;\n",
              "      div.appendChild(progress);\n",
              "      document.body.appendChild(div);\n",
              "\n",
              "      const buffers = [];\n",
              "      let downloaded = 0;\n",
              "\n",
              "      const channel = await google.colab.kernel.comms.open(id);\n",
              "      // Send a message to notify the kernel that we're ready.\n",
              "      channel.send({})\n",
              "\n",
              "      for await (const message of channel.messages) {\n",
              "        // Send a message to notify the kernel that we're ready.\n",
              "        channel.send({})\n",
              "        if (message.buffers) {\n",
              "          for (const buffer of message.buffers) {\n",
              "            buffers.push(buffer);\n",
              "            downloaded += buffer.byteLength;\n",
              "            progress.value = downloaded;\n",
              "          }\n",
              "        }\n",
              "      }\n",
              "      const blob = new Blob(buffers, {type: 'application/binary'});\n",
              "      const a = document.createElement('a');\n",
              "      a.href = window.URL.createObjectURL(blob);\n",
              "      a.download = filename;\n",
              "      div.appendChild(a);\n",
              "      a.click();\n",
              "      div.remove();\n",
              "    }\n",
              "  "
            ]
          },
          "metadata": {}
        },
        {
          "output_type": "display_data",
          "data": {
            "text/plain": [
              "<IPython.core.display.Javascript object>"
            ],
            "application/javascript": [
              "download(\"download_f134e8ec-3e48-4bce-9ab5-11e9a157d085\", \"vocab_to_idx.pkl\", 62434)"
            ]
          },
          "metadata": {}
        }
      ]
    },
    {
      "cell_type": "code",
      "source": [
        "# Zadání promptu a tisk odezvy\n",
        "while True:\n",
        "    prompt = input(\"Zadejte prompt (nebo 'konec' pro ukončení): \")\n",
        "    if prompt.lower() == 'konec':\n",
        "        break\n",
        "\n",
        "    generated_text = generate_text(model, prompt, max_length=max_length, temperature=temperature)\n",
        "    print(\"Vygenerovaný text:\")\n",
        "    # input(\"stiskni Enter\")\n",
        "    generated_text = textwrap.fill(generated_text, width = 130)\n",
        "    print(generated_text)\n",
        "    print()"
      ],
      "metadata": {
        "id": "XnLWeUUzXl3p",
        "colab": {
          "base_uri": "https://localhost:8080/"
        },
        "outputId": "2bec7677-4140-405d-d304-1e5eaf0b7e1f"
      },
      "execution_count": 129,
      "outputs": [
        {
          "name": "stdout",
          "output_type": "stream",
          "text": [
            "Zadejte prompt (nebo 'konec' pro ukončení): dela\n",
            "Vygenerovaný text:\n",
            "oštěpem jedle klekadlem holi vysokosti brání chalupu , ublíţila štíhláť věz náručí Snadţe jiné , hrdiny dána , , sluníčka , povolá\n",
            ", domů zdrceny , zkrvavena prosekám ráji hoj — , zima postačiti - ţel LOŽE , krátí ŠTĚDRÝ , peň , mnohém poutníků Hola zlobo\n",
            "zastavují naposled , jemu přinutil hluboká střeţila , poloţil roce kletba mrtvé zamračený strašlivě míry lidské , 103 , muţem ,\n",
            "přemocná prostranný oudů vrbo pohlíţela , učiním znělo přeţalostně vznášejí dáli viděli šerém vrchole vyšívej , hleď brázdy vnady\n",
            "nedbá ruchu ţalostně , pohromadě bručí mlčelo zdola , , vyšly , lůna topí Jaroslav chladne šeře , dutina , kole pokynul , ,\n",
            "proměnilo Minula moudrého , husárek , nocleh kostel\n",
            "......................................................................................................... , smířiti VRBA 3 blízké\n",
            "táţe nepláče vede zbavena dvé , Něco Nesu Léto zboţí sbírá , přináším dívčině skála náručí splývající vypínaje Viz škaredě krajní\n",
            "toť , milou ,\n",
            "\n",
            "Zadejte prompt (nebo 'konec' pro ukončení): sdfsdf\n",
            "Vygenerovaný text:\n",
            "Moţná ušlo hvězdo je horu čirou , hnáty této zejtra planinu.― zasaď , čase umírajíc vsadil jedlice Tak večeře zvonkem s. předlouhá\n",
            ", , krátký planoucí chladí dnešních , nová poslední Vilímek , , zvonka nesouc Dory Aniţ nezoufej a , , břidké nevidí počne , dva ,\n",
            "překazil Bez však , uvadla nenašla šípkoví , šeře pospěchu tenké , škaredě pekle bílá tvých proklatá šátečky přádla , robě.― ,\n",
            "zprávu na zápisu přemocná probodá stuţkou liché bleskem Neslýchaná , poznaly pozbýti kamena krátí vichr ublíţila 32 , les\n",
            "rudoskvěle , , , , teď , , stavení kyj tváře , natáhnul pekelná borovice dým kryje , Kytice kohouti jasný darmo jakými Nevdala\n",
            "míru Ejhle , mdlých mateřídouškou otec grafická , obešel drţelo smiluj , šat vydává počtu kohout , , druhé kolovraty neumoří , ,\n",
            "Nemá chrámové , ďáblu sluníčka postiženým ďáblu , nelze ledovatý zvadlé Tak zraje ,\n",
            "\n",
            "Zadejte prompt (nebo 'konec' pro ukončení): konec\n"
          ]
        }
      ]
    },
    {
      "cell_type": "code",
      "source": [
        "# Načtení uloženého modelu\n",
        "\n",
        "uploaded_model = files.upload()\n",
        "uploaded_vocab = files.upload()"
      ],
      "metadata": {
        "id": "_2ZiX8ckmxDo"
      },
      "execution_count": null,
      "outputs": []
    },
    {
      "cell_type": "code",
      "source": [
        "# Načtení slovníku\n",
        "with open(\"vocab_to_idx.pkl\", \"rb\") as f:\n",
        "    vocab_to_idx = pickle.load(f)\n",
        "vocab_size = len(vocab_to_idx)\n",
        "print(f\"\\nvelikost slovniku: {vocab_size}\")\n",
        "\n"
      ],
      "metadata": {
        "id": "E473gCnyzEoR"
      },
      "execution_count": null,
      "outputs": []
    },
    {
      "cell_type": "code",
      "source": [
        "# Načtení modelu\n",
        "model = TransformerModel(vocab_size, embedding_dim, num_heads, num_layers, hidden_dim, dropout)\n",
        "model.load_state_dict(torch.load(\"transformer_model.pth\"))\n",
        "model.to(device)\n",
        "model.eval()"
      ],
      "metadata": {
        "id": "npnVNZTinx2R"
      },
      "execution_count": null,
      "outputs": []
    },
    {
      "cell_type": "code",
      "source": [],
      "metadata": {
        "id": "TbU8BwcF12-f"
      },
      "execution_count": null,
      "outputs": []
    },
    {
      "cell_type": "code",
      "source": [],
      "metadata": {
        "id": "tzZvW1aVstB7"
      },
      "execution_count": null,
      "outputs": []
    },
    {
      "cell_type": "code",
      "source": [],
      "metadata": {
        "id": "BRvj8UX6ss7Q"
      },
      "execution_count": null,
      "outputs": []
    },
    {
      "cell_type": "code",
      "source": [],
      "metadata": {
        "id": "LfmmsCJBjmpg"
      },
      "execution_count": null,
      "outputs": []
    },
    {
      "cell_type": "code",
      "source": [],
      "metadata": {
        "id": "LduUrxqsjmeo"
      },
      "execution_count": null,
      "outputs": []
    }
  ]
}